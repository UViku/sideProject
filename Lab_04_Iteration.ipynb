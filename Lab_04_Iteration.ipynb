{
  "nbformat": 4,
  "nbformat_minor": 0,
  "metadata": {
    "colab": {
      "name": "Lab 04: Iteration",
      "provenance": [],
      "collapsed_sections": [
        "qx7xUkl6PVBQ",
        "jUMKqAryLgGu",
        "4ay3TC-8Pbax",
        "LX6-XTWNPblg",
        "5X6uTKL6IOSl",
        "Q5ArPUUAT7Bc",
        "TlAUQxvGPbwR",
        "H-Eu03imSd2X"
      ],
      "toc_visible": true
    },
    "kernelspec": {
      "name": "python3",
      "display_name": "Python 3"
    }
  },
  "cells": [
    {
      "cell_type": "markdown",
      "metadata": {
        "id": "ELMSu9feo8in"
      },
      "source": [
        "_Department of Computer Science and IT_ | **_La Trobe University, Australia_**\n",
        "\n",
        "---"
      ]
    },
    {
      "cell_type": "markdown",
      "metadata": {
        "id": "rDvK6-Fu_qNd"
      },
      "source": [
        "# Lab 04: Iteration\n",
        "\n",
        "We've explored adding logic to our programs using _selection_ with the keywords `if`, `elif`, `else`. Today, we'll extend our toolkit by introducing _iteration_ control structures with the keywords `while` and `for`."
      ]
    },
    {
      "cell_type": "markdown",
      "metadata": {
        "id": "F8XZVjEnMzrI"
      },
      "source": [
        "## Programming Exercises"
      ]
    },
    {
      "cell_type": "markdown",
      "metadata": {
        "id": "JLWketkS_vcd"
      },
      "source": [
        "### `while` Loops\n",
        "\n",
        "The syntax for `while` loops is similar to `if` statements, but it's used to define _repeating_ logic. \\\n",
        "For example, the below program will print the numbers 0, 1, 2.\n",
        "\n",
        "```python\n",
        "i = 0\n",
        "while i < 3:\n",
        "    print(i)\n",
        "    i = i + 1\n",
        "```\n",
        "\n",
        "That should be enough of a recap, so let's get programming!\n",
        "\n",
        "\n",
        "### Perfect Squares\n",
        "A perfect square is the number produced by squaring a whole number. The first 3 perfect squares are 1, 4 and 9; which are calculated as $1^2$, $2^2$ and $3^2$, respectively.\n",
        "\n",
        "Write a program below which calculates the first 10 perfect squares using a while loop. The variable `number` has been initialised for you, and should be incremented each time through the loop."
      ]
    },
    {
      "cell_type": "code",
      "metadata": {
        "id": "oFX373ufPUjC"
      },
      "source": [
        "number = 1\n",
        "\n",
        "# Write your perfect square solution here"
      ],
      "execution_count": null,
      "outputs": []
    },
    {
      "cell_type": "markdown",
      "metadata": {
        "id": "qx7xUkl6PVBQ"
      },
      "source": [
        "###### Solution"
      ]
    },
    {
      "cell_type": "markdown",
      "metadata": {
        "id": "oDWCb7IFiOU5"
      },
      "source": [
        "Recall that `number ** 2` is the same as `number * number`, so either of these are correct."
      ]
    },
    {
      "cell_type": "code",
      "metadata": {
        "id": "yuCEilJyin_Y"
      },
      "source": [
        "number = 1\n",
        "\n",
        "while number <= 10:\n",
        "    print(number ** 2)\n",
        "    number = number + 1"
      ],
      "execution_count": null,
      "outputs": []
    },
    {
      "cell_type": "markdown",
      "metadata": {
        "id": "3O1ZzBk6Lkdk"
      },
      "source": [
        "### The `break` Statement\n",
        "The break statement causes its containing loop to exit immediately, continuing execution from directly after the loop. This is particularly convenient when we don't know beforehand at which iteration a loop should stop; this is known as an _indefinite loop_.\n",
        "\n",
        "Copy and paste your perfect square solution into the cell below and modify it so that instead of printing the first 10 perfect squares, it prints all perfect squares _less than or equal to 150_. \\\n",
        "Your solution should use a `while True` loop, and a `break` statement."
      ]
    },
    {
      "cell_type": "code",
      "metadata": {
        "id": "M_gyU_GeLgGq"
      },
      "source": [
        "number = 1\n",
        "\n",
        "# Paste and modify your perfect square solution here"
      ],
      "execution_count": null,
      "outputs": []
    },
    {
      "cell_type": "markdown",
      "metadata": {
        "id": "jUMKqAryLgGu"
      },
      "source": [
        "###### Solution"
      ]
    },
    {
      "cell_type": "markdown",
      "metadata": {
        "id": "_4lsqcVGhY6E"
      },
      "source": [
        "Note that instead of printing the square if `square <= 150`, we exit early if `square > 150`. This solution is cleaner, as otherwise we would need to include an `else` block.\n",
        "\n",
        "_If you don't quite understand the above explanation, implement the solution using `square <= 150` and you'll soon see it's more complex._"
      ]
    },
    {
      "cell_type": "code",
      "metadata": {
        "id": "sr0DRH27LgGu"
      },
      "source": [
        "number = 1\n",
        "\n",
        "while True:\n",
        "    square = number ** 2\n",
        "    if square > 150:\n",
        "        break\n",
        "\n",
        "    print(square)\n",
        "    number = number + 1"
      ],
      "execution_count": null,
      "outputs": []
    },
    {
      "cell_type": "markdown",
      "metadata": {
        "id": "F6LeqoTvUnJ8"
      },
      "source": [
        "### `for` Loops\n",
        "\n",
        "For loops are very useful when we want to repeat some logic for each element in a list, and can sometimes conveniently replace `while` loops. \\\n",
        "We often use the `range` function to generate a list of numbers, but it's important to remember that it's functionally equivalent to a list of numbers. Thus, these two code snippets are equivalent:\n",
        "\n",
        "```python\n",
        "for x in range(3):\n",
        "    print(x)\n",
        "```\n",
        "```python\n",
        "for x in [0, 1, 2]:\n",
        "    print(x)\n",
        "```\n",
        "\n",
        "These are both examples of _definite loops_, as we know how many times the loop will run ahead of time.\n",
        "\n",
        "### Perfect Squares\n",
        "For this task, copy and paste your __first__ perfect square solution into the below cell (the one without the break statement). Then, update it to use a `for` loop and the range function."
      ]
    },
    {
      "cell_type": "code",
      "metadata": {
        "id": "UbOv3qFMPTYR"
      },
      "source": [
        "# Paste and modify your first square solution here"
      ],
      "execution_count": null,
      "outputs": []
    },
    {
      "cell_type": "markdown",
      "metadata": {
        "id": "4ay3TC-8Pbax"
      },
      "source": [
        "###### Solution"
      ]
    },
    {
      "cell_type": "markdown",
      "metadata": {
        "id": "v0xv2dPkhX3j"
      },
      "source": [
        "Recall that the second argument to the `range` function (11 in this case) should be 1 greater than the final number wish to use, so it may be easier to interpret it as `range(1, 10 + 1)`."
      ]
    },
    {
      "cell_type": "code",
      "metadata": {
        "id": "htf1MeWHN2x0"
      },
      "source": [
        "for number in range(1, 11):\n",
        "    print(number ** 2)"
      ],
      "execution_count": null,
      "outputs": []
    },
    {
      "cell_type": "markdown",
      "metadata": {
        "id": "9kgNP5AwPJwA"
      },
      "source": [
        "### Sum Aggregation\n",
        "\n",
        "In this exercise, you are given a list of `lap_times` for an athlete in a swimming race. Write a program which will print their total race time, by summing the lap times in a `for` loop.\n",
        "\n",
        "_If you get stuck, you might refer to the \"Aggregation\" section of the workbook._"
      ]
    },
    {
      "cell_type": "code",
      "metadata": {
        "id": "BBOG07i_PTFO"
      },
      "source": [
        "lap_times = [24.3, 27.9, 28.4, 26.5]\n",
        "\n",
        "# Write your race time solution here"
      ],
      "execution_count": null,
      "outputs": []
    },
    {
      "cell_type": "markdown",
      "metadata": {
        "id": "LX6-XTWNPblg"
      },
      "source": [
        "###### Solution"
      ]
    },
    {
      "cell_type": "code",
      "metadata": {
        "id": "G0Ff4Tp9abxF"
      },
      "source": [
        "lap_times = [24.3, 27.9, 28.4, 26.5]\n",
        "\n",
        "total = 0\n",
        "for lap in lap_times:\n",
        "    total = total + lap\n",
        "\n",
        "print('Total race time: ' + str(total) + ' seconds')"
      ],
      "execution_count": null,
      "outputs": []
    },
    {
      "cell_type": "markdown",
      "metadata": {
        "id": "_AUpSWP1QVTq"
      },
      "source": [
        "### Mean Aggregation\n",
        "Copy and paste your solution to the previous exercise in the cell below, and modify it to instead print the _average_ lap time.\n",
        "\n",
        "_Again, you may refer to the \"Aggregation\" section of the workbook._"
      ]
    },
    {
      "cell_type": "code",
      "metadata": {
        "id": "mDktQoRaaps5"
      },
      "source": [
        "lap_times = [24.3, 27.9, 28.4, 26.5]\n",
        "\n",
        "# Write your average lap time solution here"
      ],
      "execution_count": null,
      "outputs": []
    },
    {
      "cell_type": "markdown",
      "metadata": {
        "id": "5X6uTKL6IOSl"
      },
      "source": [
        "###### Solution"
      ]
    },
    {
      "cell_type": "code",
      "metadata": {
        "id": "B1hFcAo-QbZg"
      },
      "source": [
        "lap_times = [24.3, 27.9, 28.4, 26.5]\n",
        "\n",
        "sum = 0\n",
        "count = 0\n",
        "for lap in lap_times:\n",
        "    sum = sum + lap\n",
        "    count = count + 1\n",
        "average = sum / count\n",
        "\n",
        "print('Average lap time: ' + str(average) + ' seconds')"
      ],
      "execution_count": null,
      "outputs": []
    },
    {
      "cell_type": "markdown",
      "metadata": {
        "id": "Xy0aSyUjT7BK"
      },
      "source": [
        "### Nested `for` Loops\n",
        "\n",
        "Control structures can be nested arbitrarily - `if`, `while` and `for` can all be placed inside one another. In this exercise we'll use a `for` loop nested in another `for` loop, in order to print out the options available for an online store.\n",
        "\n",
        "The store only sells three products in three sizes - for a total of 9 options - but the number of options could get quite large quite quickly! Write a program which prints out each product and size combination to the screen, with an empty line between each product. \\\n",
        "Your output should look like this (truncated for brevity):\n",
        "```\n",
        "Shirt - small\n",
        "Shirt - medium\n",
        "Shirt - large\n",
        "\n",
        "Pants - small\n",
        "Pants - medium\n",
        "...\n",
        "Jacket - large\n",
        "```"
      ]
    },
    {
      "cell_type": "code",
      "metadata": {
        "id": "ei358IryXrz2"
      },
      "source": [
        "products = ['Shirt', 'Pants', 'Jacket']\n",
        "sizes = ['small', 'medium', 'large']\n",
        "\n",
        "# Write your product listing solution here"
      ],
      "execution_count": null,
      "outputs": []
    },
    {
      "cell_type": "markdown",
      "metadata": {
        "id": "Q5ArPUUAT7Bc"
      },
      "source": [
        "###### Solution"
      ]
    },
    {
      "cell_type": "markdown",
      "metadata": {
        "id": "SoXdoKFYcQYG"
      },
      "source": [
        "Note how we add the empty line after each product using indentation? This means the `print()` on line 7 is executed at the end of each iteration of the `products` loop, after the `sizes` loop has completely finished."
      ]
    },
    {
      "cell_type": "code",
      "metadata": {
        "id": "2mTcOXW_cRyD"
      },
      "source": [
        "products = ['Shirt', 'Pants', 'Jacket']\n",
        "sizes = ['small', 'medium', 'large']\n",
        "\n",
        "for product in products:\n",
        "    for size in sizes:\n",
        "        print(product + ' - ' + size)\n",
        "    print()"
      ],
      "execution_count": null,
      "outputs": []
    },
    {
      "cell_type": "markdown",
      "metadata": {
        "id": "gSELhQnMO07X"
      },
      "source": [
        "### The `continue` Statement\n",
        "\n",
        "Our imaginary store was a wild success and has sold out of all shirts! So that no one tries to buy them, we won't display any shirts.\n",
        "\n",
        "The easy solution would be to remove it from the `products` list, but if we delete products as they sell out, we won't know which products are missing to re-order. Instead, we'll just skip displaying any shirts.\n",
        "\n",
        "Copy and paste your solution from above into the cell below, and modify it so that `product` loop \"continues\" if the product is a shirt.\n",
        "\n",
        "_Recall that the `continue` keyword immediately exits the current iteration of the loop and continues onto the next._"
      ]
    },
    {
      "cell_type": "code",
      "metadata": {
        "id": "3KsPgQk1PS0M"
      },
      "source": [
        "products = ['Shirt', 'Pants', 'Jacket']\n",
        "sizes = ['small', 'medium', 'large']\n",
        "\n",
        "# Paste and modify your product listing solution here"
      ],
      "execution_count": null,
      "outputs": []
    },
    {
      "cell_type": "markdown",
      "metadata": {
        "id": "TlAUQxvGPbwR"
      },
      "source": [
        "###### Solution"
      ]
    },
    {
      "cell_type": "markdown",
      "metadata": {
        "id": "zlREah5Le8mA"
      },
      "source": [
        "The location of the `continue` statement is important; it would have a different effect if it were placed after the `sizes` loop. Try moving it around and seeing the consequences."
      ]
    },
    {
      "cell_type": "code",
      "metadata": {
        "id": "OPWJrZMzevrs"
      },
      "source": [
        "products = ['Shirt', 'Pants', 'Jacket']\n",
        "sizes = ['small', 'medium', 'large']\n",
        "\n",
        "for product in products:\n",
        "    if product == 'Shirt':\n",
        "        continue\n",
        "    for size in sizes:\n",
        "        print(product + ' - ' + size)\n",
        "    print()"
      ],
      "execution_count": null,
      "outputs": []
    },
    {
      "cell_type": "markdown",
      "metadata": {
        "id": "__2VyuuyPOeH"
      },
      "source": [
        "### Interactive Loop\n",
        "\n",
        "We've seen definite loops and indefinite loops, so finally we'll try an _interactive loop_ - one that depends on the user's input.\n",
        "\n",
        "Similar to a previous exercise, you are tasked with computing the average lap times of an athlete in a swimming race. The difference is that during coding we don't know how many laps were in the race or the lap times themselves.\n",
        "\n",
        "Write a program which repeatedly asks the user for a lap time, until they enter a lap time of 0, which is an indication that they have finished entering laps. Then, calculate and print the average lap time for the race. _Make sure you don't include the `0` lap time in your calculation!_\n",
        "\n",
        "Example run:\n",
        "```\n",
        "Enter lap time: 10\n",
        "Enter lap time: 15\n",
        "Enter lap time: 0\n",
        "Average lap time: 12.5 seconds\n",
        "```\n",
        "\n",
        "Finish the implementation below - the code that is already there gives a couple of implementation hints."
      ]
    },
    {
      "cell_type": "code",
      "metadata": {
        "id": "aQyLdqIASd2H"
      },
      "source": [
        "sum = 0\n",
        "count = 0\n",
        "\n",
        "while True:\n",
        "    # Write your interactive average lap time solution here"
      ],
      "execution_count": null,
      "outputs": []
    },
    {
      "cell_type": "markdown",
      "metadata": {
        "id": "H-Eu03imSd2X"
      },
      "source": [
        "###### Solution"
      ]
    },
    {
      "cell_type": "code",
      "metadata": {
        "id": "10ha1XLega0H"
      },
      "source": [
        "sum = 0\n",
        "count = 0\n",
        "\n",
        "while True:\n",
        "    lap_time = int(input('Enter lap time: '))\n",
        "    if lap_time == 0:\n",
        "        break\n",
        "    sum = sum + lap_time\n",
        "    count = count + 1\n",
        "\n",
        "average = sum / count\n",
        "print('Average lap time: ' + str(average) + ' seconds')"
      ],
      "execution_count": null,
      "outputs": []
    },
    {
      "cell_type": "markdown",
      "metadata": {
        "id": "YA8SWZPqNl_a"
      },
      "source": [
        "## Bonus Tasks\n",
        "This section is optional as usual, but highly recommended!"
      ]
    },
    {
      "cell_type": "markdown",
      "metadata": {
        "id": "icAyKJ-LI9jf"
      },
      "source": [
        "### Computing Factors\n",
        "\n",
        "The factors (also known as divisors) of a number are the whole numbers which can be multiplied together to produce that number. \\\n",
        "For example, the factors of 6 are 1, 2, 3, 6 because:\n",
        "```\n",
        "1 x 6 = 6\n",
        "2 x 3 = 6\n",
        "```\n",
        "\n",
        "A simple (but inefficient) method for calculating the factors of a number `n` is to look at all numbers between 1 and `n` and check if `n` is evenly divisible by that number. \\\n",
        "For our example of `n = 6` above:\n",
        "```\n",
        "6 / 1 = 6    => factor\n",
        "6 / 2 = 3    => factor\n",
        "6 / 3 = 2    => factor\n",
        "6 / 4 = 1.5  => not factor\n",
        "6 / 5 = 1.2  => not factor\n",
        "6 / 6 = 1    => factor\n",
        "```\n",
        "\n",
        "In this bonus task, you are to write a tool which takes the number `n` from the user, then prints each of its factors on a separate line. \\\n",
        "Example output:\n",
        "```\n",
        "Enter a number: 15\n",
        "1\n",
        "3\n",
        "5\n",
        "15\n",
        "```\n",
        "\n",
        "_Hint: To see if a number is evenly divisible by another, refer to the examples of the `modulo` operator in the \"Statements and Expressions\" workbook._"
      ]
    },
    {
      "cell_type": "code",
      "metadata": {
        "id": "r037-TO_xeDg"
      },
      "source": [
        "number = int(input('Enter a number: '))\n",
        "\n",
        "# Write your factor solution here"
      ],
      "execution_count": null,
      "outputs": []
    }
  ]
}